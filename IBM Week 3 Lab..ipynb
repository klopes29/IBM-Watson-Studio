{
    "cells": [
        {
            "cell_type": "markdown",
            "metadata": {
                "collapsed": true
            },
            "source": "# Lab 1\n### Embbade a image using markdown code."
        },
        {
            "cell_type": "markdown",
            "metadata": {},
            "source": "## Shopping List"
        },
        {
            "cell_type": "markdown",
            "metadata": {},
            "source": "| Items | Images | Price |\n| --- | --- | --- |\n|Food |![Alt text](https://previews.123rf.com/images/elnur/elnur1201/elnur120100906/12109549-circle-with-lots-of-food-items.jpg \"food\") | 5 -15$|"
        },
        {
            "cell_type": "markdown",
            "metadata": {},
            "source": "  \n  We created a table and inserted an image."
        },
        {
            "cell_type": "code",
            "execution_count": null,
            "metadata": {},
            "outputs": [],
            "source": ""
        }
    ],
    "metadata": {
        "kernelspec": {
            "display_name": "Python 3.6",
            "language": "python",
            "name": "python3"
        },
        "language_info": {
            "codemirror_mode": {
                "name": "ipython",
                "version": 3
            },
            "file_extension": ".py",
            "mimetype": "text/x-python",
            "name": "python",
            "nbconvert_exporter": "python",
            "pygments_lexer": "ipython3",
            "version": "3.6.9"
        }
    },
    "nbformat": 4,
    "nbformat_minor": 1
}