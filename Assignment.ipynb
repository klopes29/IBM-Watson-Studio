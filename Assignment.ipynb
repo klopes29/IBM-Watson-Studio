{
    "cells": [
        {
            "cell_type": "markdown",
            "metadata": {
                "collapsed": true
            },
            "source": "# My Jupyter Notebook on IBM Data Science Experience"
        },
        {
            "cell_type": "markdown",
            "metadata": {},
            "source": " **Kevin Lopes**  \nMy goal is to become Data Analyst."
        },
        {
            "cell_type": "markdown",
            "metadata": {},
            "source": "*I am interested in data science because i like playing with data. I like to analyse the data and create reports and visualizations using it.Also, it is a high paying job with lots of opportunity.*"
        },
        {
            "cell_type": "markdown",
            "metadata": {},
            "source": "### In the below cell we will be performing simple addition operation."
        },
        {
            "cell_type": "code",
            "execution_count": 7,
            "metadata": {},
            "outputs": [
                {
                    "data": {
                        "text/plain": "35"
                    },
                    "execution_count": 7,
                    "metadata": {},
                    "output_type": "execute_result"
                }
            ],
            "source": "10+25"
        },
        {
            "cell_type": "markdown",
            "metadata": {},
            "source": "1. ``Hello World!``\n2. ~~This is my Firt Code!~~\n\n***\nHorizontal rule\n***\n* Open source tools\n  * Python  \n  * R\n  * Scala\n***  \nName|Number\n---| ---\nABC | +1 652123475\nXYZ | +1 987546321\n___\n\n[MarkDown cheatsheets](https://github.com/adam-p/markdown-here/wiki/Markdown-Cheatsheet#blockquotes)\n"
        },
        {
            "cell_type": "code",
            "execution_count": null,
            "metadata": {},
            "outputs": [],
            "source": ""
        }
    ],
    "metadata": {
        "kernelspec": {
            "display_name": "Python 3.6",
            "language": "python",
            "name": "python3"
        },
        "language_info": {
            "codemirror_mode": {
                "name": "ipython",
                "version": 3
            },
            "file_extension": ".py",
            "mimetype": "text/x-python",
            "name": "python",
            "nbconvert_exporter": "python",
            "pygments_lexer": "ipython3",
            "version": "3.6.9"
        }
    },
    "nbformat": 4,
    "nbformat_minor": 1
}